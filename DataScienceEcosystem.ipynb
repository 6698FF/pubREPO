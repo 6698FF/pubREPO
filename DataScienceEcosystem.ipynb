{
 "cells": [
  {
   "cell_type": "markdown",
   "id": "ed49ea65",
   "metadata": {},
   "source": [
    "# Data Science Tools and Ecosystem"
   ]
  },
  {
   "cell_type": "markdown",
   "id": "c22d579c",
   "metadata": {},
   "source": [
    "## Introduction\n",
    "In this notebook, I will provide an overview of the tools and ecosystem of data science."
   ]
  },
  {
   "cell_type": "markdown",
   "id": "162882f9",
   "metadata": {},
   "source": [
    "## Some of the popular languages that Data Scientists use are:\n",
    "\n",
    "1. Python\n",
    "2. R\n",
    "3. SQL"
   ]
  },
  {
   "cell_type": "markdown",
   "id": "1496ae5f",
   "metadata": {},
   "source": []
  },
  {
   "cell_type": "markdown",
   "id": "7c22e59a",
   "metadata": {},
   "source": [
    "## Some of the commonly used libraries used by Data Scientists include:\n",
    "\n",
    "1. TensorFlow\n",
    "2. NumPy.\n",
    "3. SciPy.\n",
    "4. Pandas.\n",
    "5. Pytorch"
   ]
  },
  {
   "cell_type": "markdown",
   "id": "72b97a2b",
   "metadata": {},
   "source": [
    "| Data Science Tools |\n",
    "| --- |\n",
    "| Jupyter Notebook |\n",
    "| RStudio |\n",
    "| VS Code |"
   ]
  },
  {
   "cell_type": "markdown",
   "id": "eea9fa3d",
   "metadata": {},
   "source": [
    "### Below are a few example of evaluating arithmetic expression in Python:\n",
    "\n",
    "# Addition\n",
    "2 + 3  # Output: 5\n",
    "\n",
    "# Subtraction\n",
    "7 - 4  # Output: 3\n",
    "\n",
    "# Multiplication\n",
    "5 * 6  # Output: 30\n",
    "\n",
    "# Division\n",
    "12 / 3  # Output: 4.0\n",
    "\n",
    "# Modulo\n",
    "10 % 3  # Output: 1\n",
    "\n",
    "# Exponentiation\n",
    "2 ** 4  # Output: 16"
   ]
  },
  {
   "cell_type": "markdown",
   "id": "c712da45",
   "metadata": {},
   "source": [
    "# This is a simple arithmetic expression to multiply then add integers.\n",
    "3 * 4 + 5"
   ]
  },
  {
   "cell_type": "code",
   "execution_count": 1,
   "id": "86d2eaad",
   "metadata": {},
   "outputs": [
    {
     "data": {
      "text/plain": [
       "17"
      ]
     },
     "execution_count": 1,
     "metadata": {},
     "output_type": "execute_result"
    }
   ],
   "source": [
    "3* 4 + 5"
   ]
  },
  {
   "cell_type": "code",
   "execution_count": 2,
   "id": "a5380333",
   "metadata": {},
   "outputs": [
    {
     "data": {
      "text/plain": [
       "3.3333333333333335"
      ]
     },
     "execution_count": 2,
     "metadata": {},
     "output_type": "execute_result"
    }
   ],
   "source": [
    "# This will convert 200 minutes to hours by dividing by 60.\n",
    "200 / 60"
   ]
  },
  {
   "cell_type": "markdown",
   "id": "5d48e1a1",
   "metadata": {},
   "source": [
    "**Objectives:**\n",
    "\n",
    "- Introduce the concept of data visualization and its importance in data science.\n",
    "- Describe the basic principles of data visualization and different types of charts and graphs.\n",
    "- Demonstrate how to create effective data visualizations using Python and popular data visualization libraries such as Matplotlib and Seaborn.\n",
    "- Discuss advanced data visualization techniques such as interactive visualizations, data visualization, and network visualization.\n",
    "- Provide resources for further learning and practice in data visualization with Python.\n"
   ]
  },
  {
   "cell_type": "markdown",
   "id": "fc1a72ee",
   "metadata": {},
   "source": [
    "## Author\n",
    "\n",
    "SG Kang."
   ]
  }
 ],
 "metadata": {
  "kernelspec": {
   "display_name": "Python 3 (ipykernel)",
   "language": "python",
   "name": "python3"
  },
  "language_info": {
   "codemirror_mode": {
    "name": "ipython",
    "version": 3
   },
   "file_extension": ".py",
   "mimetype": "text/x-python",
   "name": "python",
   "nbconvert_exporter": "python",
   "pygments_lexer": "ipython3",
   "version": "3.10.9"
  }
 },
 "nbformat": 4,
 "nbformat_minor": 5
}
